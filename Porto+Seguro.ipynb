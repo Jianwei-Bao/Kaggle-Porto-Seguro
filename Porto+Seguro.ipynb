{
 "cells": [
  {
   "cell_type": "code",
   "execution_count": 1,
   "metadata": {
    "collapsed": true
   },
   "outputs": [],
   "source": [
    "import numpy as np\n",
    "import pandas as pd\n",
    "import seaborn as sns\n",
    "import gc\n",
    "from sklearn.model_selection import train_test_split"
   ]
  },
  {
   "cell_type": "code",
   "execution_count": 2,
   "metadata": {
    "collapsed": true
   },
   "outputs": [],
   "source": [
    "train = pd.read_csv(r\"C:\\Users\\baoji\\Desktop\\Porto Seguro\\train.csv\",dtype={\n",
    "            'id': np.int32,\n",
    "            'target': np.int8,\n",
    "            'ps_ind_01': np.int8,\n",
    "            'ps_ind_02_cat': np.int8,\n",
    "            'ps_ind_03': np.int8,\n",
    "            'ps_ind_04_cat': np.int8,\n",
    "            'ps_ind_05_cat': np.int8,\n",
    "            'ps_ind_06_bin': np.bool_,\n",
    "            'ps_ind_07_bin': np.bool_,\n",
    "            'ps_ind_08_bin': np.bool_,\n",
    "            'ps_ind_09_bin': np.bool_,\n",
    "            'ps_ind_10_bin': np.bool_,\n",
    "            'ps_ind_11_bin': np.bool_,\n",
    "            'ps_ind_12_bin': np.bool_,\n",
    "            'ps_ind_13_bin': np.bool_,\n",
    "            'ps_ind_14': np.int8,\n",
    "            'ps_ind_15': np.int8,\n",
    "            'ps_ind_16_bin': np.bool_,\n",
    "            'ps_ind_17_bin': np.bool_,\n",
    "            'ps_ind_18_bin': np.bool_,\n",
    "            'ps_reg_01': np.float16,\n",
    "            'ps_reg_02': np.float16,\n",
    "            'ps_reg_03': np.float64,\n",
    "            'ps_car_01_cat': np.int8,\n",
    "            'ps_car_02_cat': np.int8,\n",
    "            'ps_car_03_cat': np.int8,\n",
    "            'ps_car_04_cat': np.int8,\n",
    "            'ps_car_05_cat': np.int8,\n",
    "            'ps_car_06_cat': np.int8,\n",
    "            'ps_car_07_cat': np.int8,\n",
    "            'ps_car_08_cat': np.int8,\n",
    "            'ps_car_09_cat': np.int8,\n",
    "            'ps_car_10_cat': np.int8,\n",
    "            'ps_car_11_cat': np.int16,\n",
    "            'ps_car_11':np.int8,\n",
    "            'ps_car_12':np.float64,\n",
    "            'ps_car_13':np.float64,\n",
    "            'ps_car_14':np.float64,\n",
    "            'ps_car_15':np.float64,\n",
    "            'ps_calc_01':np.float16,\n",
    "            'ps_calc_02':np.float16,\n",
    "            'ps_calc_03':np.float16,\n",
    "            'ps_calc_04':np.int8,\n",
    "            'ps_calc_05':np.int8,\n",
    "            'ps_calc_06':np.int8,\n",
    "            'ps_calc_07':np.int8,\n",
    "            'ps_calc_08':np.int8,\n",
    "            'ps_calc_09':np.int8,\n",
    "            'ps_calc_10':np.int8,\n",
    "            'ps_calc_11':np.int8,\n",
    "            'ps_calc_12':np.int8,\n",
    "            'ps_calc_13':np.int8,\n",
    "            'ps_calc_14':np.int8,\n",
    "            'ps_calc_15_bin':np.bool_,\n",
    "            'ps_calc_16_bin':np.bool_,\n",
    "            'ps_calc_17_bin':np.bool_,\n",
    "            'ps_calc_18_bin':np.bool_,\n",
    "            'ps_calc_19_bin':np.bool_,\n",
    "            'ps_calc_20_bin':np.bool_})\n",
    "\n",
    "test = pd.read_csv(r\"C:\\Users\\baoji\\Desktop\\Porto Seguro\\test.csv\",dtype={\n",
    "            'id': np.int32,\n",
    "            'ps_ind_01': np.int8,\n",
    "            'ps_ind_02_cat': np.int8,\n",
    "            'ps_ind_03': np.int8,\n",
    "            'ps_ind_04_cat': np.int8,\n",
    "            'ps_ind_05_cat': np.int8,\n",
    "            'ps_ind_06_bin': np.bool_,\n",
    "            'ps_ind_07_bin': np.bool_,\n",
    "            'ps_ind_08_bin': np.bool_,\n",
    "            'ps_ind_09_bin': np.bool_,\n",
    "            'ps_ind_10_bin': np.bool_,\n",
    "            'ps_ind_11_bin': np.bool_,\n",
    "            'ps_ind_12_bin': np.bool_,\n",
    "            'ps_ind_13_bin': np.bool_,\n",
    "            'ps_ind_14': np.int8,\n",
    "            'ps_ind_15': np.int8,\n",
    "            'ps_ind_16_bin': np.bool_,\n",
    "            'ps_ind_17_bin': np.bool_,\n",
    "            'ps_ind_18_bin': np.bool_,\n",
    "            'ps_reg_01': np.float16,\n",
    "            'ps_reg_02': np.float16,\n",
    "            'ps_reg_03': np.float64,\n",
    "            'ps_car_01_cat': np.int8,\n",
    "            'ps_car_02_cat': np.int8,\n",
    "            'ps_car_03_cat': np.int8,\n",
    "            'ps_car_04_cat': np.int8,\n",
    "            'ps_car_05_cat': np.int8,\n",
    "            'ps_car_06_cat': np.int8,\n",
    "            'ps_car_07_cat': np.int8,\n",
    "            'ps_car_08_cat': np.int8,\n",
    "            'ps_car_09_cat': np.int8,\n",
    "            'ps_car_10_cat': np.int8,\n",
    "            'ps_car_11_cat': np.int16,\n",
    "            'ps_car_11':np.int8,\n",
    "            'ps_car_12':np.float64,\n",
    "            'ps_car_13':np.float64,\n",
    "            'ps_car_14':np.float64,\n",
    "            'ps_car_15':np.float64,\n",
    "            'ps_calc_01':np.float16,\n",
    "            'ps_calc_02':np.float16,\n",
    "            'ps_calc_03':np.float16,\n",
    "            'ps_calc_04':np.int8,\n",
    "            'ps_calc_05':np.int8,\n",
    "            'ps_calc_06':np.int8,\n",
    "            'ps_calc_07':np.int8,\n",
    "            'ps_calc_08':np.int8,\n",
    "            'ps_calc_09':np.int8,\n",
    "            'ps_calc_10':np.int8,\n",
    "            'ps_calc_11':np.int8,\n",
    "            'ps_calc_12':np.int8,\n",
    "            'ps_calc_13':np.int8,\n",
    "            'ps_calc_14':np.int8,\n",
    "            'ps_calc_15_bin':np.bool_,\n",
    "            'ps_calc_16_bin':np.bool_,\n",
    "            'ps_calc_17_bin':np.bool_,\n",
    "            'ps_calc_18_bin':np.bool_,\n",
    "            'ps_calc_19_bin':np.bool_,\n",
    "            'ps_calc_20_bin':np.bool_})"
   ]
  },
  {
   "cell_type": "code",
   "execution_count": 3,
   "metadata": {},
   "outputs": [
    {
     "data": {
      "text/plain": [
       "0"
      ]
     },
     "execution_count": 3,
     "metadata": {},
     "output_type": "execute_result"
    }
   ],
   "source": [
    "gc.collect()"
   ]
  },
  {
   "cell_type": "code",
   "execution_count": 4,
   "metadata": {
    "collapsed": true
   },
   "outputs": [],
   "source": [
    "Y=train['target']\n",
    "X=train.drop(['target','id'],axis=1)\n",
    "\n",
    "\n",
    "x_for_prediction=test.drop(['id'],axis=1)"
   ]
  },
  {
   "cell_type": "code",
   "execution_count": 5,
   "metadata": {
    "collapsed": true
   },
   "outputs": [],
   "source": [
    "def gini(actual, pred):\n",
    "    assert (len(actual) == len(pred))\n",
    "    all = np.asarray(np.c_[actual, pred, np.arange(len(actual))], dtype=np.float)\n",
    "    all = all[np.lexsort((all[:, 2], -1 * all[:, 1]))]\n",
    "    totalLosses = all[:, 0].sum()\n",
    "    giniSum = all[:, 0].cumsum().sum() / totalLosses\n",
    "\n",
    "    giniSum -= (len(actual) + 1) / 2.\n",
    "    return giniSum / len(actual)\n",
    "\n",
    "\n",
    "def gini_normalized(actual, pred):\n",
    "    return gini(actual, pred) / gini(actual, actual)"
   ]
  },
  {
   "cell_type": "code",
   "execution_count": 7,
   "metadata": {},
   "outputs": [
    {
     "data": {
      "text/html": [
       "<div>\n",
       "<style>\n",
       "    .dataframe thead tr:only-child th {\n",
       "        text-align: right;\n",
       "    }\n",
       "\n",
       "    .dataframe thead th {\n",
       "        text-align: left;\n",
       "    }\n",
       "\n",
       "    .dataframe tbody tr th {\n",
       "        vertical-align: top;\n",
       "    }\n",
       "</style>\n",
       "<table border=\"1\" class=\"dataframe\">\n",
       "  <thead>\n",
       "    <tr style=\"text-align: right;\">\n",
       "      <th></th>\n",
       "      <th>ps_ind_01</th>\n",
       "      <th>ps_ind_03</th>\n",
       "      <th>ps_ind_06_bin</th>\n",
       "      <th>ps_ind_07_bin</th>\n",
       "      <th>ps_ind_08_bin</th>\n",
       "      <th>ps_ind_09_bin</th>\n",
       "      <th>ps_ind_10_bin</th>\n",
       "      <th>ps_ind_11_bin</th>\n",
       "      <th>ps_ind_12_bin</th>\n",
       "      <th>ps_ind_13_bin</th>\n",
       "      <th>...</th>\n",
       "      <th>ps_car_11_cat_95</th>\n",
       "      <th>ps_car_11_cat_96</th>\n",
       "      <th>ps_car_11_cat_97</th>\n",
       "      <th>ps_car_11_cat_98</th>\n",
       "      <th>ps_car_11_cat_99</th>\n",
       "      <th>ps_car_11_cat_100</th>\n",
       "      <th>ps_car_11_cat_101</th>\n",
       "      <th>ps_car_11_cat_102</th>\n",
       "      <th>ps_car_11_cat_103</th>\n",
       "      <th>ps_car_11_cat_104</th>\n",
       "    </tr>\n",
       "  </thead>\n",
       "  <tbody>\n",
       "    <tr>\n",
       "      <th>0</th>\n",
       "      <td>0</td>\n",
       "      <td>8</td>\n",
       "      <td>False</td>\n",
       "      <td>True</td>\n",
       "      <td>False</td>\n",
       "      <td>False</td>\n",
       "      <td>False</td>\n",
       "      <td>False</td>\n",
       "      <td>False</td>\n",
       "      <td>False</td>\n",
       "      <td>...</td>\n",
       "      <td>0</td>\n",
       "      <td>0</td>\n",
       "      <td>0</td>\n",
       "      <td>0</td>\n",
       "      <td>0</td>\n",
       "      <td>0</td>\n",
       "      <td>0</td>\n",
       "      <td>0</td>\n",
       "      <td>0</td>\n",
       "      <td>0</td>\n",
       "    </tr>\n",
       "    <tr>\n",
       "      <th>1</th>\n",
       "      <td>4</td>\n",
       "      <td>5</td>\n",
       "      <td>False</td>\n",
       "      <td>False</td>\n",
       "      <td>False</td>\n",
       "      <td>True</td>\n",
       "      <td>False</td>\n",
       "      <td>False</td>\n",
       "      <td>False</td>\n",
       "      <td>False</td>\n",
       "      <td>...</td>\n",
       "      <td>0</td>\n",
       "      <td>0</td>\n",
       "      <td>0</td>\n",
       "      <td>0</td>\n",
       "      <td>0</td>\n",
       "      <td>0</td>\n",
       "      <td>0</td>\n",
       "      <td>0</td>\n",
       "      <td>1</td>\n",
       "      <td>0</td>\n",
       "    </tr>\n",
       "    <tr>\n",
       "      <th>2</th>\n",
       "      <td>5</td>\n",
       "      <td>3</td>\n",
       "      <td>False</td>\n",
       "      <td>False</td>\n",
       "      <td>False</td>\n",
       "      <td>True</td>\n",
       "      <td>False</td>\n",
       "      <td>False</td>\n",
       "      <td>False</td>\n",
       "      <td>False</td>\n",
       "      <td>...</td>\n",
       "      <td>0</td>\n",
       "      <td>0</td>\n",
       "      <td>0</td>\n",
       "      <td>0</td>\n",
       "      <td>0</td>\n",
       "      <td>0</td>\n",
       "      <td>0</td>\n",
       "      <td>0</td>\n",
       "      <td>0</td>\n",
       "      <td>0</td>\n",
       "    </tr>\n",
       "    <tr>\n",
       "      <th>3</th>\n",
       "      <td>0</td>\n",
       "      <td>6</td>\n",
       "      <td>True</td>\n",
       "      <td>False</td>\n",
       "      <td>False</td>\n",
       "      <td>False</td>\n",
       "      <td>False</td>\n",
       "      <td>False</td>\n",
       "      <td>False</td>\n",
       "      <td>False</td>\n",
       "      <td>...</td>\n",
       "      <td>0</td>\n",
       "      <td>0</td>\n",
       "      <td>0</td>\n",
       "      <td>0</td>\n",
       "      <td>0</td>\n",
       "      <td>0</td>\n",
       "      <td>0</td>\n",
       "      <td>0</td>\n",
       "      <td>0</td>\n",
       "      <td>0</td>\n",
       "    </tr>\n",
       "    <tr>\n",
       "      <th>4</th>\n",
       "      <td>5</td>\n",
       "      <td>7</td>\n",
       "      <td>False</td>\n",
       "      <td>False</td>\n",
       "      <td>False</td>\n",
       "      <td>True</td>\n",
       "      <td>False</td>\n",
       "      <td>False</td>\n",
       "      <td>False</td>\n",
       "      <td>False</td>\n",
       "      <td>...</td>\n",
       "      <td>0</td>\n",
       "      <td>0</td>\n",
       "      <td>0</td>\n",
       "      <td>0</td>\n",
       "      <td>0</td>\n",
       "      <td>0</td>\n",
       "      <td>1</td>\n",
       "      <td>0</td>\n",
       "      <td>0</td>\n",
       "      <td>0</td>\n",
       "    </tr>\n",
       "  </tbody>\n",
       "</table>\n",
       "<p>5 rows × 226 columns</p>\n",
       "</div>"
      ],
      "text/plain": [
       "   ps_ind_01  ps_ind_03  ps_ind_06_bin  ps_ind_07_bin  ps_ind_08_bin  \\\n",
       "0          0          8          False           True          False   \n",
       "1          4          5          False          False          False   \n",
       "2          5          3          False          False          False   \n",
       "3          0          6           True          False          False   \n",
       "4          5          7          False          False          False   \n",
       "\n",
       "   ps_ind_09_bin  ps_ind_10_bin  ps_ind_11_bin  ps_ind_12_bin  ps_ind_13_bin  \\\n",
       "0          False          False          False          False          False   \n",
       "1           True          False          False          False          False   \n",
       "2           True          False          False          False          False   \n",
       "3          False          False          False          False          False   \n",
       "4           True          False          False          False          False   \n",
       "\n",
       "         ...          ps_car_11_cat_95  ps_car_11_cat_96  ps_car_11_cat_97  \\\n",
       "0        ...                         0                 0                 0   \n",
       "1        ...                         0                 0                 0   \n",
       "2        ...                         0                 0                 0   \n",
       "3        ...                         0                 0                 0   \n",
       "4        ...                         0                 0                 0   \n",
       "\n",
       "   ps_car_11_cat_98  ps_car_11_cat_99  ps_car_11_cat_100  ps_car_11_cat_101  \\\n",
       "0                 0                 0                  0                  0   \n",
       "1                 0                 0                  0                  0   \n",
       "2                 0                 0                  0                  0   \n",
       "3                 0                 0                  0                  0   \n",
       "4                 0                 0                  0                  1   \n",
       "\n",
       "   ps_car_11_cat_102  ps_car_11_cat_103  ps_car_11_cat_104  \n",
       "0                  0                  0                  0  \n",
       "1                  0                  1                  0  \n",
       "2                  0                  0                  0  \n",
       "3                  0                  0                  0  \n",
       "4                  0                  0                  0  \n",
       "\n",
       "[5 rows x 226 columns]"
      ]
     },
     "execution_count": 7,
     "metadata": {},
     "output_type": "execute_result"
    }
   ],
   "source": [
    "dummies=['ps_ind_02_cat','ps_ind_04_cat','ps_ind_05_cat','ps_car_01_cat','ps_car_02_cat','ps_car_03_cat','ps_car_04_cat',\n",
    "         'ps_car_05_cat','ps_car_06_cat','ps_car_07_cat','ps_car_09_cat','ps_car_10_cat','ps_car_11_cat']\n",
    "\n",
    "\n",
    "x_for_prediction_with_dummies= pd.get_dummies(x_for_prediction,  columns=dummies)\n",
    "x_for_prediction_with_dummies.head()"
   ]
  },
  {
   "cell_type": "code",
   "execution_count": 8,
   "metadata": {
    "collapsed": true
   },
   "outputs": [],
   "source": [
    "X_with_dummies= pd.get_dummies(X,  columns=dummies)\n"
   ]
  },
  {
   "cell_type": "code",
   "execution_count": 9,
   "metadata": {},
   "outputs": [
    {
     "name": "stdout",
     "output_type": "stream",
     "text": [
      "589753\n"
     ]
    }
   ],
   "source": [
    "X_train, X_test, y_train, y_test = train_test_split(X_with_dummies, Y, test_size=0.5, stratify=Y, random_state=0)\n",
    "print(len(X_train))"
   ]
  },
  {
   "cell_type": "code",
   "execution_count": 10,
   "metadata": {},
   "outputs": [
    {
     "name": "stdout",
     "output_type": "stream",
     "text": [
      "3571\n"
     ]
    }
   ],
   "source": [
    "X_train, X_test, y_train, y_test = train_test_split(X_train, y_train, test_size=0.5,stratify=y_train, random_state=42)\n",
    "print(len(X_train))"
   ]
  },
  {
   "cell_type": "code",
   "execution_count": 11,
   "metadata": {
    "collapsed": true
   },
   "outputs": [],
   "source": [
    "from sklearn.ensemble import RandomForestClassifier\n",
    "clf=RandomForestClassifier()\n"
   ]
  },
  {
   "cell_type": "code",
   "execution_count": 12,
   "metadata": {
    "collapsed": true
   },
   "outputs": [],
   "source": []
  },
  {
   "cell_type": "code",
   "execution_count": 13,
   "metadata": {},
   "outputs": [
    {
     "data": {
      "text/plain": [
       "RandomForestClassifier(bootstrap=True, class_weight=None, criterion='gini',\n",
       "            max_depth=None, max_features='auto', max_leaf_nodes=None,\n",
       "            min_impurity_decrease=0.0, min_impurity_split=None,\n",
       "            min_samples_leaf=1, min_samples_split=2,\n",
       "            min_weight_fraction_leaf=0.0, n_estimators=10, n_jobs=1,\n",
       "            oob_score=False, random_state=None, verbose=0,\n",
       "            warm_start=False)"
      ]
     },
     "execution_count": 13,
     "metadata": {},
     "output_type": "execute_result"
    }
   ],
   "source": [
    "clf.fit(X_train,y_train)"
   ]
  },
  {
   "cell_type": "code",
   "execution_count": 14,
   "metadata": {
    "collapsed": true
   },
   "outputs": [],
   "source": [
    "X_predicted=clf.predict(X_test)\n"
   ]
  },
  {
   "cell_type": "code",
   "execution_count": 15,
   "metadata": {},
   "outputs": [
    {
     "name": "stdout",
     "output_type": "stream",
     "text": [
      "0.0615043480415\n"
     ]
    }
   ],
   "source": [
    "print(gini_normalized(y_test, X_predicted))"
   ]
  },
  {
   "cell_type": "code",
   "execution_count": 16,
   "metadata": {},
   "outputs": [
    {
     "data": {
      "text/plain": [
       "0.015487321919192665"
      ]
     },
     "execution_count": 16,
     "metadata": {},
     "output_type": "execute_result"
    }
   ],
   "source": [
    "gini(y_test, X_predicted)"
   ]
  },
  {
   "cell_type": "code",
   "execution_count": 18,
   "metadata": {},
   "outputs": [
    {
     "name": "stdout",
     "output_type": "stream",
     "text": [
      "1797\n"
     ]
    }
   ],
   "source": [
    "print(len(X_test))"
   ]
  },
  {
   "cell_type": "code",
   "execution_count": 19,
   "metadata": {},
   "outputs": [
    {
     "data": {
      "text/plain": [
       "array([[607, 298],\n",
       "       [529, 363]], dtype=int64)"
      ]
     },
     "execution_count": 19,
     "metadata": {},
     "output_type": "execute_result"
    }
   ],
   "source": [
    "from sklearn.metrics import confusion_matrix\n",
    "confusion_matrix(y_test, X_predicted)"
   ]
  },
  {
   "cell_type": "code",
   "execution_count": 21,
   "metadata": {},
   "outputs": [
    {
     "data": {
      "text/plain": [
       "892"
      ]
     },
     "execution_count": 21,
     "metadata": {},
     "output_type": "execute_result"
    }
   ],
   "source": [
    "sum(y_test==1)"
   ]
  },
  {
   "cell_type": "code",
   "execution_count": 22,
   "metadata": {},
   "outputs": [
    {
     "data": {
      "text/plain": [
       "905"
      ]
     },
     "execution_count": 22,
     "metadata": {},
     "output_type": "execute_result"
    }
   ],
   "source": [
    "sum(y_test==0)"
   ]
  },
  {
   "cell_type": "code",
   "execution_count": 24,
   "metadata": {},
   "outputs": [],
   "source": [
    "y_prob=clf.predict_proba(X_test)"
   ]
  },
  {
   "cell_type": "code",
   "execution_count": 26,
   "metadata": {},
   "outputs": [
    {
     "data": {
      "text/plain": [
       "595212"
      ]
     },
     "execution_count": 26,
     "metadata": {},
     "output_type": "execute_result"
    }
   ],
   "source": [
    "len(X_with_dummies)"
   ]
  },
  {
   "cell_type": "code",
   "execution_count": 27,
   "metadata": {},
   "outputs": [
    {
     "data": {
      "text/plain": [
       "21694"
      ]
     },
     "execution_count": 27,
     "metadata": {},
     "output_type": "execute_result"
    }
   ],
   "source": [
    "sum(Y==1)"
   ]
  },
  {
   "cell_type": "code",
   "execution_count": 28,
   "metadata": {},
   "outputs": [
    {
     "data": {
      "text/plain": [
       "573518"
      ]
     },
     "execution_count": 28,
     "metadata": {},
     "output_type": "execute_result"
    }
   ],
   "source": [
    "sum(Y==0)"
   ]
  },
  {
   "cell_type": "code",
   "execution_count": 29,
   "metadata": {},
   "outputs": [
    {
     "data": {
      "text/plain": [
       "0.037826188541597645"
      ]
     },
     "execution_count": 29,
     "metadata": {},
     "output_type": "execute_result"
    }
   ],
   "source": [
    "21694/573518"
   ]
  },
  {
   "cell_type": "code",
   "execution_count": 31,
   "metadata": {},
   "outputs": [
    {
     "name": "stdout",
     "output_type": "stream",
     "text": [
      "['X_with_dummies', 'X_with_dummies'] 158.326MB\n",
      "['x_for_prediction_with_dummies', 'x_for_prediction_with_dummies'] 237.489MB\n",
      "398.040MB\n"
     ]
    }
   ],
   "source": [
    "import sys\n",
    "import numpy as np\n",
    "import pandas as pd\n",
    "def show_mem_usage():\n",
    "    '''Displays memory usage from inspection\n",
    "    of global variables in this notebook'''\n",
    "    gl = sys._getframe(1).f_globals\n",
    "    vars= {}\n",
    "    for k,v in list(gl.items()):\n",
    "        # for pandas dataframes\n",
    "        if hasattr(v, 'memory_usage'):\n",
    "            mem = v.memory_usage(deep=True)\n",
    "            if not np.isscalar(mem):\n",
    "                mem = mem.sum()\n",
    "            vars.setdefault(id(v),[mem]).append(k)\n",
    "        # work around for a bug\n",
    "        elif isinstance(v,pd.Panel):\n",
    "            v = v.values\n",
    "        vars.setdefault(id(v),[sys.getsizeof(v)]).append(k)\n",
    "    total = 0\n",
    "    for k,(value,*names) in vars.items():\n",
    "        if value>1e6:\n",
    "            print(names,\"%.3fMB\"%(value/1e6))\n",
    "        total += value\n",
    "    print(\"%.3fMB\"%(total/1e6))\n",
    "\n",
    "show_mem_usage()"
   ]
  },
  {
   "cell_type": "code",
   "execution_count": 32,
   "metadata": {},
   "outputs": [
    {
     "ename": "SyntaxError",
     "evalue": "invalid syntax (<ipython-input-32-2d6cd3356fa0>, line 1)",
     "output_type": "error",
     "traceback": [
      "\u001b[0;36m  File \u001b[0;32m\"<ipython-input-32-2d6cd3356fa0>\"\u001b[0;36m, line \u001b[0;32m1\u001b[0m\n\u001b[0;31m    pip install memory_profiler\u001b[0m\n\u001b[0m              ^\u001b[0m\n\u001b[0;31mSyntaxError\u001b[0m\u001b[0;31m:\u001b[0m invalid syntax\n"
     ]
    }
   ],
   "source": []
  },
  {
   "cell_type": "code",
   "execution_count": null,
   "metadata": {
    "collapsed": true
   },
   "outputs": [],
   "source": []
  }
 ],
 "metadata": {
  "anaconda-cloud": {},
  "kernelspec": {
   "display_name": "Python [default]",
   "language": "python",
   "name": "python3"
  },
  "language_info": {
   "codemirror_mode": {
    "name": "ipython",
    "version": 3
   },
   "file_extension": ".py",
   "mimetype": "text/x-python",
   "name": "python",
   "nbconvert_exporter": "python",
   "pygments_lexer": "ipython3",
   "version": "3.5.2"
  }
 },
 "nbformat": 4,
 "nbformat_minor": 1
}
